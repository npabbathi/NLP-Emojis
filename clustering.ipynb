{
  "cells": [
    {
      "cell_type": "code",
      "execution_count": 1,
      "metadata": {
        "colab": {
          "base_uri": "https://localhost:8080/"
        },
        "id": "tXoOUpxqIPXg",
        "outputId": "1033177d-13ba-4089-9981-cf7a210cd423"
      },
      "outputs": [
        {
          "output_type": "stream",
          "name": "stdout",
          "text": [
            "Requirement already satisfied: tweepy in /usr/local/lib/python3.10/dist-packages (4.14.0)\n",
            "Requirement already satisfied: oauthlib<4,>=3.2.0 in /usr/local/lib/python3.10/dist-packages (from tweepy) (3.2.2)\n",
            "Requirement already satisfied: requests<3,>=2.27.0 in /usr/local/lib/python3.10/dist-packages (from tweepy) (2.32.3)\n",
            "Requirement already satisfied: requests-oauthlib<2,>=1.2.0 in /usr/local/lib/python3.10/dist-packages (from tweepy) (1.3.1)\n",
            "Requirement already satisfied: charset-normalizer<4,>=2 in /usr/local/lib/python3.10/dist-packages (from requests<3,>=2.27.0->tweepy) (3.4.0)\n",
            "Requirement already satisfied: idna<4,>=2.5 in /usr/local/lib/python3.10/dist-packages (from requests<3,>=2.27.0->tweepy) (3.10)\n",
            "Requirement already satisfied: urllib3<3,>=1.21.1 in /usr/local/lib/python3.10/dist-packages (from requests<3,>=2.27.0->tweepy) (2.2.3)\n",
            "Requirement already satisfied: certifi>=2017.4.17 in /usr/local/lib/python3.10/dist-packages (from requests<3,>=2.27.0->tweepy) (2024.8.30)\n",
            "Requirement already satisfied: transformers in /usr/local/lib/python3.10/dist-packages (4.46.2)\n",
            "Requirement already satisfied: filelock in /usr/local/lib/python3.10/dist-packages (from transformers) (3.16.1)\n",
            "Requirement already satisfied: huggingface-hub<1.0,>=0.23.2 in /usr/local/lib/python3.10/dist-packages (from transformers) (0.26.2)\n",
            "Requirement already satisfied: numpy>=1.17 in /usr/local/lib/python3.10/dist-packages (from transformers) (1.26.4)\n",
            "Requirement already satisfied: packaging>=20.0 in /usr/local/lib/python3.10/dist-packages (from transformers) (24.2)\n",
            "Requirement already satisfied: pyyaml>=5.1 in /usr/local/lib/python3.10/dist-packages (from transformers) (6.0.2)\n",
            "Requirement already satisfied: regex!=2019.12.17 in /usr/local/lib/python3.10/dist-packages (from transformers) (2024.9.11)\n",
            "Requirement already satisfied: requests in /usr/local/lib/python3.10/dist-packages (from transformers) (2.32.3)\n",
            "Requirement already satisfied: safetensors>=0.4.1 in /usr/local/lib/python3.10/dist-packages (from transformers) (0.4.5)\n",
            "Requirement already satisfied: tokenizers<0.21,>=0.20 in /usr/local/lib/python3.10/dist-packages (from transformers) (0.20.3)\n",
            "Requirement already satisfied: tqdm>=4.27 in /usr/local/lib/python3.10/dist-packages (from transformers) (4.66.6)\n",
            "Requirement already satisfied: fsspec>=2023.5.0 in /usr/local/lib/python3.10/dist-packages (from huggingface-hub<1.0,>=0.23.2->transformers) (2024.10.0)\n",
            "Requirement already satisfied: typing-extensions>=3.7.4.3 in /usr/local/lib/python3.10/dist-packages (from huggingface-hub<1.0,>=0.23.2->transformers) (4.12.2)\n",
            "Requirement already satisfied: charset-normalizer<4,>=2 in /usr/local/lib/python3.10/dist-packages (from requests->transformers) (3.4.0)\n",
            "Requirement already satisfied: idna<4,>=2.5 in /usr/local/lib/python3.10/dist-packages (from requests->transformers) (3.10)\n",
            "Requirement already satisfied: urllib3<3,>=1.21.1 in /usr/local/lib/python3.10/dist-packages (from requests->transformers) (2.2.3)\n",
            "Requirement already satisfied: certifi>=2017.4.17 in /usr/local/lib/python3.10/dist-packages (from requests->transformers) (2024.8.30)\n",
            "Requirement already satisfied: torch in /usr/local/lib/python3.10/dist-packages (2.5.1+cu121)\n",
            "Requirement already satisfied: filelock in /usr/local/lib/python3.10/dist-packages (from torch) (3.16.1)\n",
            "Requirement already satisfied: typing-extensions>=4.8.0 in /usr/local/lib/python3.10/dist-packages (from torch) (4.12.2)\n",
            "Requirement already satisfied: networkx in /usr/local/lib/python3.10/dist-packages (from torch) (3.4.2)\n",
            "Requirement already satisfied: jinja2 in /usr/local/lib/python3.10/dist-packages (from torch) (3.1.4)\n",
            "Requirement already satisfied: fsspec in /usr/local/lib/python3.10/dist-packages (from torch) (2024.10.0)\n",
            "Requirement already satisfied: sympy==1.13.1 in /usr/local/lib/python3.10/dist-packages (from torch) (1.13.1)\n",
            "Requirement already satisfied: mpmath<1.4,>=1.1.0 in /usr/local/lib/python3.10/dist-packages (from sympy==1.13.1->torch) (1.3.0)\n",
            "Requirement already satisfied: MarkupSafe>=2.0 in /usr/local/lib/python3.10/dist-packages (from jinja2->torch) (3.0.2)\n"
          ]
        }
      ],
      "source": [
        "!pip install tweepy\n",
        "!pip install transformers\n",
        "!pip install torch"
      ]
    },
    {
      "cell_type": "code",
      "execution_count": 2,
      "metadata": {
        "colab": {
          "base_uri": "https://localhost:8080/"
        },
        "id": "COQ4ZHz7IPXi",
        "outputId": "463f2269-7edf-4133-b177-250914a17bd8"
      },
      "outputs": [
        {
          "output_type": "stream",
          "name": "stdout",
          "text": [
            "Collecting emoji\n",
            "  Downloading emoji-2.14.0-py3-none-any.whl.metadata (5.7 kB)\n",
            "Downloading emoji-2.14.0-py3-none-any.whl (586 kB)\n",
            "\u001b[?25l   \u001b[90m━━━━━━━━━━━━━━━━━━━━━━━━━━━━━━━━━━━━━━━━\u001b[0m \u001b[32m0.0/586.9 kB\u001b[0m \u001b[31m?\u001b[0m eta \u001b[36m-:--:--\u001b[0m\r\u001b[2K   \u001b[91m━━━━━━\u001b[0m\u001b[90m╺\u001b[0m\u001b[90m━━━━━━━━━━━━━━━━━━━━━━━━━━━━━━━━━\u001b[0m \u001b[32m92.2/586.9 kB\u001b[0m \u001b[31m2.4 MB/s\u001b[0m eta \u001b[36m0:00:01\u001b[0m\r\u001b[2K   \u001b[91m━━━━━━━━━━━━━━━━━━━━━━━━━━━━━━━━━━━━━━━\u001b[0m\u001b[91m╸\u001b[0m \u001b[32m583.7/586.9 kB\u001b[0m \u001b[31m8.9 MB/s\u001b[0m eta \u001b[36m0:00:01\u001b[0m\r\u001b[2K   \u001b[90m━━━━━━━━━━━━━━━━━━━━━━━━━━━━━━━━━━━━━━━━\u001b[0m \u001b[32m586.9/586.9 kB\u001b[0m \u001b[31m6.8 MB/s\u001b[0m eta \u001b[36m0:00:00\u001b[0m\n",
            "\u001b[?25hInstalling collected packages: emoji\n",
            "Successfully installed emoji-2.14.0\n"
          ]
        }
      ],
      "source": [
        "!pip install emoji"
      ]
    },
    {
      "cell_type": "code",
      "execution_count": 4,
      "metadata": {
        "id": "55uvvXYUIPXi"
      },
      "outputs": [],
      "source": [
        "import tweepy\n",
        "import os.path as path\n",
        "import numpy as np\n",
        "import nltk.tokenize as tk\n",
        "import math\n",
        "import scipy.stats as stats\n",
        "import pandas as pd\n",
        "import huggingface_hub\n",
        "from scipy.stats import pearsonr\n",
        "from transformers import AutoTokenizer\n",
        "from transformers import AutoModelForMaskedLM\n",
        "import torch\n",
        "from transformers import BertModel\n",
        "import sklearn.cluster\n",
        "from sklearn.decomposition import PCA\n",
        "import matplotlib.pyplot as plt\n",
        "import random\n",
        "import emoji\n"
      ]
    },
    {
      "cell_type": "code",
      "execution_count": 5,
      "metadata": {
        "id": "mIHBkS8dIPXj"
      },
      "outputs": [],
      "source": [
        "def get_all_examples():\n",
        "    \"\"\"Load all examples from a CSV file using pandas and return those that contain text.\n",
        "\n",
        "    Returns:\n",
        "        A list of tweets (or data) that contain text.\n",
        "    \"\"\"\n",
        "    save_file = './twitter_emoji.csv'\n",
        "\n",
        "    if path.exists(save_file):\n",
        "        df = pd.read_csv(save_file, lineterminator = '\\n')\n",
        "        ids_to_examples = df[df['Text'].notna()].to_dict(orient='records')  # Convert to list of dicts\n",
        "    else:\n",
        "        print('Could not find tweets, so returning an empty list!')\n",
        "        ids_to_examples = []\n",
        "\n",
        "    return ids_to_examples\n",
        "\n",
        "\n",
        "def get_emojis_in_tweet(tweet, emojis, tokenizer):\n",
        "    \"\"\"Get a list of all the emojis in a tweet based on the sets provided\n",
        "\n",
        "    Args:\n",
        "        tweet: Tweet\n",
        "        tokenizer: NLTK tokenizer\n",
        "\n",
        "    Returns:\n",
        "        Emojis in a tweet\n",
        "    \"\"\"\n",
        "    tokens = tokenizer.tokenize(tweet['Text'])\n",
        "    ems = set()\n",
        "    for token in tokens:\n",
        "        if token in emojis:\n",
        "            ems.add(token)\n",
        "    return ems\n",
        "\n",
        "\n",
        "def get_tweets_with_emoji(tweets, emojis):\n",
        "    \"\"\"Get all tweets with emoji in the sets\n",
        "\n",
        "    Args:\n",
        "        tweets: List of Tweets\n",
        "\n",
        "    Returns:\n",
        "        All tweets containing emoji\n",
        "\n",
        "    \"\"\"\n",
        "    tokenizer = tk.TweetTokenizer(preserve_case=False, reduce_len=True, strip_handles=True)\n",
        "    ems = list()\n",
        "    for tweet in tweets:\n",
        "        if get_emojis_in_tweet(tweet, emojis, tokenizer):\n",
        "            ems.append(tweet)\n",
        "    return ems\n"
      ]
    },
    {
      "cell_type": "code",
      "execution_count": 11,
      "metadata": {
        "colab": {
          "base_uri": "https://localhost:8080/"
        },
        "id": "AAw2jMsSIPXk",
        "outputId": "b9d3da9a-2bef-424e-97f1-27614f14970c"
      },
      "outputs": [
        {
          "output_type": "stream",
          "name": "stderr",
          "text": [
            "Some weights of the model checkpoint at bert-base-uncased were not used when initializing BertForMaskedLM: ['bert.pooler.dense.bias', 'bert.pooler.dense.weight', 'cls.seq_relationship.bias', 'cls.seq_relationship.weight']\n",
            "- This IS expected if you are initializing BertForMaskedLM from the checkpoint of a model trained on another task or with another architecture (e.g. initializing a BertForSequenceClassification model from a BertForPreTraining model).\n",
            "- This IS NOT expected if you are initializing BertForMaskedLM from the checkpoint of a model that you expect to be exactly identical (initializing a BertForSequenceClassification model from a BertForSequenceClassification model).\n"
          ]
        },
        {
          "output_type": "execute_result",
          "data": {
            "text/plain": [
              "Embedding(30523, 768, padding_idx=0)"
            ]
          },
          "metadata": {},
          "execution_count": 11
        }
      ],
      "source": [
        "target_emoji = \"😭\"\n",
        "emojis = [target_emoji]\n",
        "\n",
        "\n",
        "# tweets = get_all_examples()\n",
        "# tweetsWithEmoji = get_tweets_with_emoji(tweets, [target_emoji])\n",
        "# emojis = []\n",
        "# for tweet in tweetsWithEmoji:\n",
        "#     line = tweet[\"Text\"]\n",
        "#     for em in emoji.emoji_list(line):\n",
        "#         emojis.append(em[\"emoji\"])\n",
        "\n",
        "checkpoint = 'bert-base-uncased'\n",
        "\n",
        "model = AutoModelForMaskedLM.from_pretrained(checkpoint)\n",
        "tokenizer = AutoTokenizer.from_pretrained(checkpoint)\n",
        "tokenizer.add_tokens(emojis)\n",
        "model.resize_token_embeddings(len(tokenizer))"
      ]
    },
    {
      "cell_type": "code",
      "execution_count": 12,
      "metadata": {
        "colab": {
          "base_uri": "https://localhost:8080/"
        },
        "id": "0o5RjewRIPXm",
        "outputId": "9caf3174-5d50-4b25-add0-6de8b748f054"
      },
      "outputs": [
        {
          "output_type": "stream",
          "name": "stdout",
          "text": [
            "182\n",
            "['OMG Finally SUGA showed off his 7 tattoo in the latest single People pt.2 (feat IU) by Agust D MV. 😭 😍 💜 🫂 \\n\\nTo see 👉 https://t.co/02PIewjj7o https://t.co/bHDVBQ7zqo', '@hiyyihsolo @PyrrahTale Oh they’re obsessed with hiyyihligths wtf 💀 😭 , it’s so fcking weird 🧍🏻 ', \"@CalvinKlein Can we have more denim jackets for ladies? 👉 👈 The men's jackets selection is so much better, but I don't want men's jacket 😭 \", \"@Thewrightbros89 damn right  😭  we're on this together  😭  chatkhem era coming soon 👉 💛 \"]\n"
          ]
        }
      ],
      "source": [
        "tweets = get_all_examples()\n",
        "tweetsWithEmoji = get_tweets_with_emoji(tweets, [target_emoji])\n",
        "lines = []\n",
        "for tweet in tweetsWithEmoji:\n",
        "    line = tweet[\"Text\"]\n",
        "    for em in emoji.emoji_list(line):\n",
        "        em = em[\"emoji\"]\n",
        "        line = line.replace(em, \" \" + em + \" \")\n",
        "    line = line.replace(\"  \", \" \")\n",
        "    lines.append(line)\n",
        "\n",
        "\n",
        "print(len(lines))\n",
        "print(lines[0:4])"
      ]
    },
    {
      "cell_type": "code",
      "execution_count": 13,
      "metadata": {
        "id": "PN6Xf5bG1PAn"
      },
      "outputs": [],
      "source": [
        "# and adapting the other function\n",
        "def combined_vector_for(targetword, text, bert_input, bert_output,\n",
        "                        layer = -1, word_occurrence = 0):\n",
        "    \"\"\"\n",
        "    calculate a word vector\n",
        "    based on the mean of the WordPiece vectors in the given layer.\n",
        "    targetword is a word appearing in text.\n",
        "    bert_input is the whole dictionary returned by the tokenizer.\n",
        "    bert_output is the last-layer output obtained\n",
        "    on this text.\n",
        "    \"\"\"\n",
        "    tokenized_text = [w for w, n in tokenizer.backend_tokenizer.pre_tokenizer.pre_tokenize_str(text)]\n",
        "\n",
        "    # where in the tokenized text (split into words but not split into word pieces)\n",
        "    # do we find the target word?\n",
        "    target_word_indices = [i for i, x in enumerate(tokenized_text) if x == targetword]\n",
        "\n",
        "    # sanity check\n",
        "    if len(target_word_indices) < word_occurrence + 1:\n",
        "        # no occurrences found, or not enough to match the required one\n",
        "        print(\"Target Word Not Found\")\n",
        "        return None\n",
        "\n",
        "    # if multiple occurrences of the target word, we use this one\n",
        "    usethis_targetword_index = target_word_indices[ word_occurrence]\n",
        "\n",
        "    # use word_to_tokens to determine the word piece span of the target word\n",
        "    word_start, word_end = bert_input.word_to_tokens( usethis_targetword_index )\n",
        "\n",
        "    # extract the embeddings from the right layer, and the target vectors from that layer\n",
        "    embeddings= bert_output[\"hidden_states\"][layer]\n",
        "    # print(embeddings.shape)\n",
        "    target_vectors = embeddings[0, word_start:word_end, :]\n",
        "\n",
        "    # if we have multiple word pieces for ti'his word, average over them\n",
        "    avg_target_vector = target_vectors.mean(dim = 0)\n",
        "\n",
        "    return avg_target_vector.detach().numpy()\n",
        "\n"
      ]
    },
    {
      "cell_type": "code",
      "execution_count": 15,
      "metadata": {
        "id": "eG3LZJcv1PAo",
        "colab": {
          "base_uri": "https://localhost:8080/"
        },
        "outputId": "91db3c9e-9b71-4fda-8459-829cd28db188"
      },
      "outputs": [
        {
          "output_type": "stream",
          "name": "stdout",
          "text": [
            "182\n"
          ]
        }
      ],
      "source": [
        "embeddings = []\n",
        "# checkpoint = 'bert-base-uncased'\n",
        "for line in lines:\n",
        "\n",
        "    text = line\n",
        "\n",
        "    bert_inputs = tokenizer(text, padding=True, truncation=True,  return_tensors=\"pt\")\n",
        "\n",
        "    tokens = tokenizer.tokenize(text, add_special_tokens = True)\n",
        "    # print(tokens)\n",
        "    # print(tokenizer.backend_tokenizer.pre_tokenizer.pre_tokenize_str(text))\n",
        "\n",
        "    bert_output = model(bert_inputs[\"input_ids\"], output_hidden_states = True)\n",
        "\n",
        "    charge_output = combined_vector_for(target_emoji, text, bert_inputs, bert_output, layer = 7, word_occurrence = 0)\n",
        "    # print(text)\n",
        "    # print(\"-------------\")\n",
        "\n",
        "    embeddings.append(charge_output)\n",
        "\n",
        "print(len(embeddings))\n",
        "# print(embeddings)\n"
      ]
    },
    {
      "cell_type": "code",
      "execution_count": 16,
      "metadata": {
        "id": "Ytj2CEtiIPXq"
      },
      "outputs": [],
      "source": [
        "# print(embeddings)"
      ]
    },
    {
      "cell_type": "code",
      "execution_count": 17,
      "metadata": {
        "colab": {
          "base_uri": "https://localhost:8080/"
        },
        "id": "xaXoSwdhIPXq",
        "outputId": "1a36ad5d-d50b-4a38-c4ad-39928997aa60"
      },
      "outputs": [
        {
          "output_type": "stream",
          "name": "stdout",
          "text": [
            "182\n"
          ]
        }
      ],
      "source": [
        "embeddings = [x for x in embeddings if x is not None]\n",
        "print(len(embeddings))"
      ]
    },
    {
      "cell_type": "code",
      "execution_count": 18,
      "metadata": {
        "id": "_3sfQ6fC1PAp"
      },
      "outputs": [],
      "source": [
        "kmeans = sklearn.cluster.KMeans(n_clusters=5, random_state=2048).fit(embeddings)\n",
        "#random_state makes clustering deterministic - it's a seed value"
      ]
    },
    {
      "cell_type": "code",
      "execution_count": 19,
      "metadata": {
        "colab": {
          "base_uri": "https://localhost:8080/"
        },
        "id": "UO4RsLvu2sfv",
        "outputId": "22c7e8d6-c472-4f37-bc75-9ad665e39bc3"
      },
      "outputs": [
        {
          "output_type": "stream",
          "name": "stdout",
          "text": [
            "182\n",
            "[2, 0, 3, 1, 1, 4, 3, 0, 2, 1, 0, 0, 2, 4, 2, 2, 2, 3, 4, 4, 0, 3, 1, 2, 2, 2, 1, 0, 2, 1, 2, 1, 2, 4, 2, 1, 2, 1, 4, 2, 1, 0, 2, 2, 4, 4, 4, 0, 3, 2, 0, 3, 4, 2, 0, 2, 2, 2, 2, 3, 3, 0, 2, 2, 3, 1, 4, 4, 3, 3, 2, 1, 2, 2, 1, 2, 3, 1, 3, 2, 0, 0, 0, 3, 0, 0, 2, 4, 1, 0, 4, 0, 2, 3, 1, 4, 4, 4, 3, 2, 2, 0, 2, 4, 2, 1, 0, 0, 1, 3, 4, 3, 0, 4, 4, 4, 2, 4, 1, 2, 3, 4, 3, 2, 2, 1, 2, 0, 2, 0, 0, 1, 2, 0, 1, 4, 2, 2, 0, 1, 2, 4, 1, 3, 2, 4, 2, 1, 2, 1, 2, 2, 0, 4, 2, 0, 2, 2, 1, 2, 4, 0, 2, 2, 2, 2, 1, 2, 2, 2, 4, 4, 2, 2, 1, 2, 4, 0, 3, 2, 0, 0]\n"
          ]
        }
      ],
      "source": [
        "cluster_list = kmeans.predict(embeddings)\n",
        "print(len(list(cluster_list)))\n",
        "print((list(cluster_list)))"
      ]
    },
    {
      "cell_type": "code",
      "execution_count": 20,
      "metadata": {
        "id": "MyWvydcU30yd"
      },
      "outputs": [],
      "source": [
        "cluster_dict = {0:[],1:[],2:[],3:[],4:[]}\n",
        "for i in range(len(cluster_list)):\n",
        "  cluster_dict[cluster_list[i]].append(i)"
      ]
    },
    {
      "cell_type": "code",
      "execution_count": 21,
      "metadata": {
        "colab": {
          "base_uri": "https://localhost:8080/"
        },
        "id": "xgOnmcdg48Yz",
        "outputId": "a6bd16fd-6724-440d-e6ab-b90e4cc92c82"
      },
      "outputs": [
        {
          "output_type": "stream",
          "name": "stdout",
          "text": [
            "@pachtaogaybro Na nah simping is crazy tho 😭  😭  but I'm on it 👉 👈 .\n",
            "\n",
            " ☠️ AIR POLLUTION by oil giants continues to trap impoverished communities into generations of INJUSTICE. \n",
            "\n",
            "Of concern is the evidence for neurocognitive effects related to exposure to pollutants on children. 😭  \n",
            "\n",
            " 💪 Help put an end to this here 👉 https://t.co/8jzCkVZ5OV https://t.co/aTc6Rz4TtB\n",
            "\n",
            "Why is this the Hyuka piic when you google 'txt members' 😭 https://t.co/cq66wwZOuy\n",
            "\n",
            "@AkaruAD Our power is out too 😭 \n",
            "\n",
            "THIS DOESNT WORK WITH RENGA cus reki thinks langa is everything and langa thinks reki is everything.. they’re both everything to each other im going to cry and  😭  😭  👉    💔      💔      💔      💔      💔      💔   \n",
            "\n"
          ]
        }
      ],
      "source": [
        "outs = 3\n",
        "random.seed(50)\n",
        "\n",
        "for cluster in cluster_dict.keys():\n",
        "  sents = random.sample(cluster_dict[cluster],1)\n",
        "  for sent in sents:\n",
        "    print(lines[sent])\n",
        "\n",
        "  print()"
      ]
    },
    {
      "cell_type": "code",
      "execution_count": 22,
      "metadata": {
        "colab": {
          "base_uri": "https://localhost:8080/",
          "height": 430
        },
        "id": "BkwmCTKQ1PAq",
        "outputId": "6395abb7-b961-40a3-b61b-f125ac8093d0"
      },
      "outputs": [
        {
          "output_type": "display_data",
          "data": {
            "text/plain": [
              "<Figure size 640x480 with 1 Axes>"
            ],
            "image/png": "[encoded data removed]"
          },
          "metadata": {}
        }
      ],
      "source": [
        "twodim = PCA().fit_transform(embeddings)[:,:2]\n",
        "\n",
        "# set up the canvas\n",
        "fig, ax =  plt.subplots()\n",
        "\n",
        "# add a scatter plot of the two-D embeddings\n",
        "scatter = ax.scatter(twodim[:,0], twodim[:,1], edgecolors='k', c=cluster_list)\n",
        "\n",
        "# and show the canvas\n",
        "plt.show()"
      ]
    }
  ],
  "metadata": {
    "colab": {
      "provenance": []
    },
    "kernelspec": {
      "display_name": "base",
      "language": "python",
      "name": "python3"
    },
    "language_info": {
      "codemirror_mode": {
        "name": "ipython",
        "version": 3
      },
      "file_extension": ".py",
      "mimetype": "text/x-python",
      "name": "python",
      "nbconvert_exporter": "python",
      "pygments_lexer": "ipython3",
      "version": "3.11.9"
    }
  },
  "nbformat": 4,
  "nbformat_minor": 0
}