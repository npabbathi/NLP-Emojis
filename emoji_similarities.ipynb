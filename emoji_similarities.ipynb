{
  "cells": [
    {
      "cell_type": "code",
      "execution_count": 91,
      "metadata": {
        "id": "bf4Nh-hpw12i"
      },
      "outputs": [],
      "source": [
        "import matplotlib.pyplot as plt\n",
        "from sklearn.manifold import TSNE\n",
        "from sklearn.decomposition import PCA\n",
        "from sklearn.metrics.pairwise import cosine_similarity\n",
        "from transformers import AutoTokenizer, AutoModel\n",
        "import torch\n",
        "import numpy as np\n",
        "import emoji\n"
      ]
    },
    {
      "cell_type": "code",
      "execution_count": 92,
      "metadata": {
        "id": "AOK9JB9_xSRQ"
      },
      "outputs": [],
      "source": [
        "# Emoji descriptions and corresponding emojis\n",
        "emoji_meanings = {\n",
        "    \"smile\": \"😊\",\n",
        "    \"sad\": \"😢\",\n",
        "    \"heart\": \"❤️\",\n",
        "    \"fire\": \"🔥\",\n",
        "    \"thumbs up\": \"👍\",\n",
        "    \"star\": \"⭐\",\n",
        "    \"clap\": \"👏\",\n",
        "    \"thinking\": \"🤔\",\n",
        "    \"laugh\": \"😂\",\n",
        "    \"crying\": \"😭\"\n",
        "}\n",
        "\n",
        "emojis =[\" 😊 \", \" 😢 \", \" ❤️ \", \" 🔥 \", \" 👍 \", \" ⭐ \", \" 👏 \", \" 🤔 \", \" 😂 \", \" 😭 \"]\n",
        "#model.resize_token_embeddings(len(tokenizer))\n"
      ]
    },
    {
      "cell_type": "code",
      "execution_count": 93,
      "metadata": {
        "id": "_t9rMiiPxWAx",
        "colab": {
          "base_uri": "https://localhost:8080/"
        },
        "outputId": "f6711623-b51a-47a2-c3eb-8ead1fc2ee63"
      },
      "outputs": [
        {
          "output_type": "execute_result",
          "data": {
            "text/plain": [
              "Embedding(30532, 768, padding_idx=0)"
            ]
          },
          "metadata": {},
          "execution_count": 93
        }
      ],
      "source": [
        "# Load pre-trained BERT tokenizer and model\n",
        "model = \"bert-base-uncased\"\n",
        "tokenizer = AutoTokenizer.from_pretrained(model)\n",
        "model = AutoModel.from_pretrained(model)\n",
        "tokenizer.add_tokens(emojis)\n",
        "model.resize_token_embeddings(len(tokenizer))"
      ]
    },
    {
      "cell_type": "code",
      "execution_count": 96,
      "metadata": {
        "id": "aEPa-URY_LPU",
        "colab": {
          "base_uri": "https://localhost:8080/",
          "height": 1000
        },
        "outputId": "f7e06063-51b8-4a3e-972c-980b2b5fe452"
      },
      "outputs": [
        {
          "output_type": "stream",
          "name": "stderr",
          "text": [
            "WARNING:matplotlib.font_manager:findfont: Font family 'Noto Color Emoji' not found.\n",
            "WARNING:matplotlib.font_manager:findfont: Font family 'Noto Color Emoji' not found.\n",
            "WARNING:matplotlib.font_manager:findfont: Font family 'Noto Color Emoji' not found.\n",
            "WARNING:matplotlib.font_manager:findfont: Font family 'Noto Color Emoji' not found.\n",
            "WARNING:matplotlib.font_manager:findfont: Font family 'Noto Color Emoji' not found.\n",
            "WARNING:matplotlib.font_manager:findfont: Font family 'Noto Color Emoji' not found.\n",
            "WARNING:matplotlib.font_manager:findfont: Font family 'Noto Color Emoji' not found.\n",
            "WARNING:matplotlib.font_manager:findfont: Font family 'Noto Color Emoji' not found.\n",
            "WARNING:matplotlib.font_manager:findfont: Font family 'Noto Color Emoji' not found.\n",
            "WARNING:matplotlib.font_manager:findfont: Font family 'Noto Color Emoji' not found.\n",
            "WARNING:matplotlib.font_manager:findfont: Font family 'Noto Color Emoji' not found.\n",
            "WARNING:matplotlib.font_manager:findfont: Font family 'Noto Color Emoji' not found.\n",
            "WARNING:matplotlib.font_manager:findfont: Font family 'Noto Color Emoji' not found.\n",
            "WARNING:matplotlib.font_manager:findfont: Font family 'Noto Color Emoji' not found.\n",
            "WARNING:matplotlib.font_manager:findfont: Font family 'Noto Color Emoji' not found.\n",
            "WARNING:matplotlib.font_manager:findfont: Font family 'Noto Color Emoji' not found.\n",
            "WARNING:matplotlib.font_manager:findfont: Font family 'Noto Color Emoji' not found.\n",
            "/usr/local/lib/python3.10/dist-packages/IPython/core/pylabtools.py:151: UserWarning: Glyph 128293 (\\N{FIRE}) missing from current font.\n",
            "  fig.canvas.print_figure(bytes_io, **kw)\n",
            "WARNING:matplotlib.font_manager:findfont: Font family 'Noto Color Emoji' not found.\n",
            "/usr/local/lib/python3.10/dist-packages/IPython/core/pylabtools.py:151: UserWarning: Glyph 128077 (\\N{THUMBS UP SIGN}) missing from current font.\n",
            "  fig.canvas.print_figure(bytes_io, **kw)\n",
            "WARNING:matplotlib.font_manager:findfont: Font family 'Noto Color Emoji' not found.\n",
            "/usr/local/lib/python3.10/dist-packages/IPython/core/pylabtools.py:151: UserWarning: Glyph 11088 (\\N{WHITE MEDIUM STAR}) missing from current font.\n",
            "  fig.canvas.print_figure(bytes_io, **kw)\n",
            "WARNING:matplotlib.font_manager:findfont: Font family 'Noto Color Emoji' not found.\n",
            "/usr/local/lib/python3.10/dist-packages/IPython/core/pylabtools.py:151: UserWarning: Glyph 128079 (\\N{CLAPPING HANDS SIGN}) missing from current font.\n",
            "  fig.canvas.print_figure(bytes_io, **kw)\n",
            "WARNING:matplotlib.font_manager:findfont: Font family 'Noto Color Emoji' not found.\n",
            "/usr/local/lib/python3.10/dist-packages/IPython/core/pylabtools.py:151: UserWarning: Glyph 129300 (\\N{THINKING FACE}) missing from current font.\n",
            "  fig.canvas.print_figure(bytes_io, **kw)\n",
            "WARNING:matplotlib.font_manager:findfont: Font family 'Noto Color Emoji' not found.\n",
            "WARNING:matplotlib.font_manager:findfont: Font family 'Noto Color Emoji' not found.\n",
            "WARNING:matplotlib.font_manager:findfont: Font family 'Noto Color Emoji' not found.\n",
            "WARNING:matplotlib.font_manager:findfont: Font family 'Noto Color Emoji' not found.\n",
            "WARNING:matplotlib.font_manager:findfont: Font family 'Noto Color Emoji' not found.\n",
            "WARNING:matplotlib.font_manager:findfont: Font family 'Noto Color Emoji' not found.\n",
            "WARNING:matplotlib.font_manager:findfont: Font family 'Noto Color Emoji' not found.\n",
            "WARNING:matplotlib.font_manager:findfont: Font family 'Noto Color Emoji' not found.\n",
            "WARNING:matplotlib.font_manager:findfont: Font family 'Noto Color Emoji' not found.\n",
            "WARNING:matplotlib.font_manager:findfont: Font family 'Noto Color Emoji' not found.\n",
            "WARNING:matplotlib.font_manager:findfont: Font family 'Noto Color Emoji' not found.\n",
            "WARNING:matplotlib.font_manager:findfont: Font family 'Noto Color Emoji' not found.\n",
            "WARNING:matplotlib.font_manager:findfont: Font family 'Noto Color Emoji' not found.\n",
            "WARNING:matplotlib.font_manager:findfont: Font family 'Noto Color Emoji' not found.\n",
            "WARNING:matplotlib.font_manager:findfont: Font family 'Noto Color Emoji' not found.\n",
            "WARNING:matplotlib.font_manager:findfont: Font family 'Noto Color Emoji' not found.\n",
            "WARNING:matplotlib.font_manager:findfont: Font family 'Noto Color Emoji' not found.\n",
            "WARNING:matplotlib.font_manager:findfont: Font family 'Noto Color Emoji' not found.\n",
            "WARNING:matplotlib.font_manager:findfont: Font family 'Noto Color Emoji' not found.\n",
            "WARNING:matplotlib.font_manager:findfont: Font family 'Noto Color Emoji' not found.\n",
            "WARNING:matplotlib.font_manager:findfont: Font family 'Noto Color Emoji' not found.\n",
            "WARNING:matplotlib.font_manager:findfont: Font family 'Noto Color Emoji' not found.\n",
            "WARNING:matplotlib.font_manager:findfont: Font family 'Noto Color Emoji' not found.\n",
            "WARNING:matplotlib.font_manager:findfont: Font family 'Noto Color Emoji' not found.\n",
            "WARNING:matplotlib.font_manager:findfont: Font family 'Noto Color Emoji' not found.\n",
            "WARNING:matplotlib.font_manager:findfont: Font family 'Noto Color Emoji' not found.\n",
            "WARNING:matplotlib.font_manager:findfont: Font family 'Noto Color Emoji' not found.\n",
            "WARNING:matplotlib.font_manager:findfont: Font family 'Noto Color Emoji' not found.\n",
            "WARNING:matplotlib.font_manager:findfont: Font family 'Noto Color Emoji' not found.\n",
            "WARNING:matplotlib.font_manager:findfont: Font family 'Noto Color Emoji' not found.\n",
            "WARNING:matplotlib.font_manager:findfont: Font family 'Noto Color Emoji' not found.\n",
            "WARNING:matplotlib.font_manager:findfont: Font family 'Noto Color Emoji' not found.\n",
            "WARNING:matplotlib.font_manager:findfont: Font family 'Noto Color Emoji' not found.\n",
            "WARNING:matplotlib.font_manager:findfont: Font family 'Noto Color Emoji' not found.\n",
            "WARNING:matplotlib.font_manager:findfont: Font family 'Noto Color Emoji' not found.\n",
            "WARNING:matplotlib.font_manager:findfont: Font family 'Noto Color Emoji' not found.\n",
            "WARNING:matplotlib.font_manager:findfont: Font family 'Noto Color Emoji' not found.\n",
            "WARNING:matplotlib.font_manager:findfont: Font family 'Noto Color Emoji' not found.\n",
            "WARNING:matplotlib.font_manager:findfont: Font family 'Noto Color Emoji' not found.\n",
            "WARNING:matplotlib.font_manager:findfont: Font family 'Noto Color Emoji' not found.\n",
            "WARNING:matplotlib.font_manager:findfont: Font family 'Noto Color Emoji' not found.\n",
            "WARNING:matplotlib.font_manager:findfont: Font family 'Noto Color Emoji' not found.\n",
            "WARNING:matplotlib.font_manager:findfont: Font family 'Noto Color Emoji' not found.\n",
            "WARNING:matplotlib.font_manager:findfont: Font family 'Noto Color Emoji' not found.\n",
            "WARNING:matplotlib.font_manager:findfont: Font family 'Noto Color Emoji' not found.\n",
            "WARNING:matplotlib.font_manager:findfont: Font family 'Noto Color Emoji' not found.\n",
            "WARNING:matplotlib.font_manager:findfont: Font family 'Noto Color Emoji' not found.\n"
          ]
        },
        {
          "output_type": "display_data",
          "data": {
            "text/plain": [
              "<Figure size 600x600 with 1 Axes>"
            ],
            "image/png": "[encoded data removed]"
          },
          "metadata": {}
        }
      ],
      "source": [
        "# Generate embeddings for the new tokens\n",
        "def get_token_embedding(token):\n",
        "    inputs = tokenizer(token, return_tensors=\"pt\")\n",
        "    with torch.no_grad():\n",
        "        outputs = model(**inputs)\n",
        "    # Use the CLS token embedding as the representation\n",
        "    return outputs.last_hidden_state.mean(dim=1).squeeze().numpy()\n",
        "\n",
        "# Collect embeddings for all emoji meanings\n",
        "embeddings = []\n",
        "labels = []\n",
        "for emoji, meaning in emoji_meanings.items():\n",
        "    embedding = get_token_embedding(emoji)\n",
        "    embeddings.append(embedding)\n",
        "    labels.append(meaning)\n",
        "\n",
        "# Convert embeddings to a numpy array\n",
        "import numpy as np\n",
        "embeddings = np.array(embeddings)\n",
        "\n",
        "# Reduce dimensionality with PCA\n",
        "pca = PCA(n_components=2)\n",
        "#embeddings_2d = pca.fit_transform(embeddings)  # Shape: (num_emojis, 2)\n",
        "embeddings_2d = TSNE(n_components=2, random_state=12, perplexity=3).fit_transform(embeddings)\n",
        "# Plot the emojis\n",
        "plt.figure(figsize=(6, 6))\n",
        "plt.scatter(embeddings_2d[:, 0], embeddings_2d[:, 1], alpha=0)\n",
        "for i, label in enumerate(labels):\n",
        "    x, y = embeddings_2d[i]\n",
        "    plt.text(x, y, label, fontsize=20, ha='center', va='center')\n",
        "plt.title(\"Emoji Similarity Visualization (TSNE)\", fontsize=12)\n",
        "plt.axis(\"on\")\n",
        "\n",
        "plt.show()"
      ]
    },
    {
      "cell_type": "code",
      "execution_count": 97,
      "metadata": {
        "colab": {
          "base_uri": "https://localhost:8080/",
          "height": 1000
        },
        "id": "dHLi2TEfAUVX",
        "outputId": "ede69bba-7374-4b0a-ea65-27a6ea155324"
      },
      "outputs": [
        {
          "output_type": "stream",
          "name": "stderr",
          "text": [
            "WARNING:matplotlib.font_manager:findfont: Font family 'Noto Color Emoji' not found.\n",
            "WARNING:matplotlib.font_manager:findfont: Font family 'Noto Color Emoji' not found.\n",
            "WARNING:matplotlib.font_manager:findfont: Font family 'Noto Color Emoji' not found.\n",
            "WARNING:matplotlib.font_manager:findfont: Font family 'Noto Color Emoji' not found.\n",
            "WARNING:matplotlib.font_manager:findfont: Font family 'Noto Color Emoji' not found.\n",
            "WARNING:matplotlib.font_manager:findfont: Font family 'Noto Color Emoji' not found.\n",
            "WARNING:matplotlib.font_manager:findfont: Font family 'Noto Color Emoji' not found.\n",
            "WARNING:matplotlib.font_manager:findfont: Font family 'Noto Color Emoji' not found.\n",
            "WARNING:matplotlib.font_manager:findfont: Font family 'Noto Color Emoji' not found.\n",
            "WARNING:matplotlib.font_manager:findfont: Font family 'Noto Color Emoji' not found.\n",
            "WARNING:matplotlib.font_manager:findfont: Font family 'Noto Color Emoji' not found.\n",
            "WARNING:matplotlib.font_manager:findfont: Font family 'Noto Color Emoji' not found.\n",
            "WARNING:matplotlib.font_manager:findfont: Font family 'Noto Color Emoji' not found.\n",
            "WARNING:matplotlib.font_manager:findfont: Font family 'Noto Color Emoji' not found.\n",
            "WARNING:matplotlib.font_manager:findfont: Font family 'Noto Color Emoji' not found.\n",
            "WARNING:matplotlib.font_manager:findfont: Font family 'Noto Color Emoji' not found.\n",
            "WARNING:matplotlib.font_manager:findfont: Font family 'Noto Color Emoji' not found.\n",
            "/usr/local/lib/python3.10/dist-packages/IPython/core/pylabtools.py:151: UserWarning: Glyph 128293 (\\N{FIRE}) missing from current font.\n",
            "  fig.canvas.print_figure(bytes_io, **kw)\n",
            "WARNING:matplotlib.font_manager:findfont: Font family 'Noto Color Emoji' not found.\n",
            "/usr/local/lib/python3.10/dist-packages/IPython/core/pylabtools.py:151: UserWarning: Glyph 128077 (\\N{THUMBS UP SIGN}) missing from current font.\n",
            "  fig.canvas.print_figure(bytes_io, **kw)\n",
            "WARNING:matplotlib.font_manager:findfont: Font family 'Noto Color Emoji' not found.\n",
            "/usr/local/lib/python3.10/dist-packages/IPython/core/pylabtools.py:151: UserWarning: Glyph 11088 (\\N{WHITE MEDIUM STAR}) missing from current font.\n",
            "  fig.canvas.print_figure(bytes_io, **kw)\n",
            "WARNING:matplotlib.font_manager:findfont: Font family 'Noto Color Emoji' not found.\n",
            "/usr/local/lib/python3.10/dist-packages/IPython/core/pylabtools.py:151: UserWarning: Glyph 128079 (\\N{CLAPPING HANDS SIGN}) missing from current font.\n",
            "  fig.canvas.print_figure(bytes_io, **kw)\n",
            "WARNING:matplotlib.font_manager:findfont: Font family 'Noto Color Emoji' not found.\n",
            "/usr/local/lib/python3.10/dist-packages/IPython/core/pylabtools.py:151: UserWarning: Glyph 129300 (\\N{THINKING FACE}) missing from current font.\n",
            "  fig.canvas.print_figure(bytes_io, **kw)\n",
            "WARNING:matplotlib.font_manager:findfont: Font family 'Noto Color Emoji' not found.\n",
            "WARNING:matplotlib.font_manager:findfont: Font family 'Noto Color Emoji' not found.\n",
            "WARNING:matplotlib.font_manager:findfont: Font family 'Noto Color Emoji' not found.\n",
            "WARNING:matplotlib.font_manager:findfont: Font family 'Noto Color Emoji' not found.\n",
            "WARNING:matplotlib.font_manager:findfont: Font family 'Noto Color Emoji' not found.\n",
            "WARNING:matplotlib.font_manager:findfont: Font family 'Noto Color Emoji' not found.\n",
            "WARNING:matplotlib.font_manager:findfont: Font family 'Noto Color Emoji' not found.\n",
            "WARNING:matplotlib.font_manager:findfont: Font family 'Noto Color Emoji' not found.\n",
            "WARNING:matplotlib.font_manager:findfont: Font family 'Noto Color Emoji' not found.\n",
            "WARNING:matplotlib.font_manager:findfont: Font family 'Noto Color Emoji' not found.\n",
            "WARNING:matplotlib.font_manager:findfont: Font family 'Noto Color Emoji' not found.\n",
            "WARNING:matplotlib.font_manager:findfont: Font family 'Noto Color Emoji' not found.\n",
            "WARNING:matplotlib.font_manager:findfont: Font family 'Noto Color Emoji' not found.\n",
            "WARNING:matplotlib.font_manager:findfont: Font family 'Noto Color Emoji' not found.\n",
            "WARNING:matplotlib.font_manager:findfont: Font family 'Noto Color Emoji' not found.\n",
            "WARNING:matplotlib.font_manager:findfont: Font family 'Noto Color Emoji' not found.\n",
            "WARNING:matplotlib.font_manager:findfont: Font family 'Noto Color Emoji' not found.\n",
            "WARNING:matplotlib.font_manager:findfont: Font family 'Noto Color Emoji' not found.\n",
            "WARNING:matplotlib.font_manager:findfont: Font family 'Noto Color Emoji' not found.\n",
            "WARNING:matplotlib.font_manager:findfont: Font family 'Noto Color Emoji' not found.\n",
            "WARNING:matplotlib.font_manager:findfont: Font family 'Noto Color Emoji' not found.\n",
            "WARNING:matplotlib.font_manager:findfont: Font family 'Noto Color Emoji' not found.\n",
            "WARNING:matplotlib.font_manager:findfont: Font family 'Noto Color Emoji' not found.\n",
            "WARNING:matplotlib.font_manager:findfont: Font family 'Noto Color Emoji' not found.\n",
            "WARNING:matplotlib.font_manager:findfont: Font family 'Noto Color Emoji' not found.\n",
            "WARNING:matplotlib.font_manager:findfont: Font family 'Noto Color Emoji' not found.\n",
            "WARNING:matplotlib.font_manager:findfont: Font family 'Noto Color Emoji' not found.\n",
            "WARNING:matplotlib.font_manager:findfont: Font family 'Noto Color Emoji' not found.\n",
            "WARNING:matplotlib.font_manager:findfont: Font family 'Noto Color Emoji' not found.\n",
            "WARNING:matplotlib.font_manager:findfont: Font family 'Noto Color Emoji' not found.\n",
            "WARNING:matplotlib.font_manager:findfont: Font family 'Noto Color Emoji' not found.\n",
            "WARNING:matplotlib.font_manager:findfont: Font family 'Noto Color Emoji' not found.\n",
            "WARNING:matplotlib.font_manager:findfont: Font family 'Noto Color Emoji' not found.\n",
            "WARNING:matplotlib.font_manager:findfont: Font family 'Noto Color Emoji' not found.\n",
            "WARNING:matplotlib.font_manager:findfont: Font family 'Noto Color Emoji' not found.\n",
            "WARNING:matplotlib.font_manager:findfont: Font family 'Noto Color Emoji' not found.\n",
            "WARNING:matplotlib.font_manager:findfont: Font family 'Noto Color Emoji' not found.\n",
            "WARNING:matplotlib.font_manager:findfont: Font family 'Noto Color Emoji' not found.\n",
            "WARNING:matplotlib.font_manager:findfont: Font family 'Noto Color Emoji' not found.\n",
            "WARNING:matplotlib.font_manager:findfont: Font family 'Noto Color Emoji' not found.\n",
            "WARNING:matplotlib.font_manager:findfont: Font family 'Noto Color Emoji' not found.\n",
            "WARNING:matplotlib.font_manager:findfont: Font family 'Noto Color Emoji' not found.\n",
            "WARNING:matplotlib.font_manager:findfont: Font family 'Noto Color Emoji' not found.\n",
            "WARNING:matplotlib.font_manager:findfont: Font family 'Noto Color Emoji' not found.\n",
            "WARNING:matplotlib.font_manager:findfont: Font family 'Noto Color Emoji' not found.\n",
            "WARNING:matplotlib.font_manager:findfont: Font family 'Noto Color Emoji' not found.\n",
            "WARNING:matplotlib.font_manager:findfont: Font family 'Noto Color Emoji' not found.\n",
            "WARNING:matplotlib.font_manager:findfont: Font family 'Noto Color Emoji' not found.\n",
            "WARNING:matplotlib.font_manager:findfont: Font family 'Noto Color Emoji' not found.\n",
            "WARNING:matplotlib.font_manager:findfont: Font family 'Noto Color Emoji' not found.\n"
          ]
        },
        {
          "output_type": "display_data",
          "data": {
            "text/plain": [
              "<Figure size 600x600 with 1 Axes>"
            ],
            "image/png": "[encoded data removed]"
          },
          "metadata": {}
        }
      ],
      "source": [
        "# Generate embeddings for the new tokens\n",
        "def get_token_embedding(token):\n",
        "    inputs = tokenizer(token, return_tensors=\"pt\")\n",
        "    with torch.no_grad():\n",
        "        outputs = model(**inputs)\n",
        "    # Use the CLS token embedding as the representation\n",
        "    return outputs.last_hidden_state.mean(dim=1).squeeze().numpy()\n",
        "\n",
        "# Collect embeddings for all emoji meanings\n",
        "embeddings = []\n",
        "labels = []\n",
        "for emoji, meaning in emoji_meanings.items():\n",
        "    embedding = get_token_embedding(emoji)\n",
        "    embeddings.append(embedding)\n",
        "    labels.append(meaning)\n",
        "\n",
        "# Convert embeddings to a numpy array\n",
        "import numpy as np\n",
        "embeddings = np.array(embeddings)\n",
        "\n",
        "# Reduce dimensionality with PCA\n",
        "pca = PCA(n_components=2)\n",
        "embeddings_2d = pca.fit_transform(embeddings)  # Shape: (num_emojis, 2)\n",
        "#mbeddings_2d = TSNE(n_components=2, random_state=12, perplexity=3).fit_transform(embeddings)\n",
        "# Plot the emojis\n",
        "plt.figure(figsize=(6, 6))\n",
        "plt.scatter(embeddings_2d[:, 0], embeddings_2d[:, 1], alpha=0)\n",
        "for i, label in enumerate(labels):\n",
        "    x, y = embeddings_2d[i]\n",
        "    plt.text(x, y, label, fontsize=20, ha='center', va='center')\n",
        "plt.title(\"Emoji Similarity Visualization (TSNE)\", fontsize=12)\n",
        "plt.axis(\"on\")\n",
        "\n",
        "plt.show()"
      ]
    }
  ],
  "metadata": {
    "colab": {
      "provenance": []
    },
    "kernelspec": {
      "display_name": "Python 3",
      "name": "python3"
    },
    "language_info": {
      "name": "python"
    }
  },
  "nbformat": 4,
  "nbformat_minor": 0
}